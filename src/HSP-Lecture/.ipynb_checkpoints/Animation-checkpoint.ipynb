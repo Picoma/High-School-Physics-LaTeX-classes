{
 "cells": [
  {
   "cell_type": "code",
   "execution_count": null,
   "metadata": {
    "jupyter": {
     "source_hidden": true
    }
   },
   "outputs": [],
   "source": [
    "%pylab ipympl\n",
    "from ipywidgets import interact\n",
    "from IPython.display import Audio\n",
    "\n",
    "N=500000\n",
    "T_tot=5  # s"
   ]
  },
  {
   "cell_type": "code",
   "execution_count": null,
   "metadata": {
    "jupyter": {
     "source_hidden": true
    },
    "scrolled": false
   },
   "outputs": [],
   "source": [
    "fig,ax=subplots()\n",
    "\n",
    "@interact(Fréquence=(240,840,10))\n",
    "def make_plot(Fréquence):\n",
    "    ax.clear()\n",
    "    t=linspace(0,T_tot,N)\n",
    "    signal=sin(2*pi*Fréquence*t)# + sin(4*pi*f*t) + sin(8*pi*f*t)\n",
    "    \n",
    "    ax.plot(t*1e3,signal)\n",
    "    ax.set_xlim(0,0.01*1e3) ; ax.set_ylim(-1.1,1.1)\n",
    "    \n",
    "    xlabel(\"Temps(ms)\") ; ylabel(\"Tension (V)\")\n",
    "    ax.set_yticks((0,))\n",
    "    \n",
    "    arrow = matplotlib.patches.FancyArrowPatch((1e3/Fréquence, 0), (2e3/Fréquence, 0),mutation_scale=25,color=\"k\",arrowstyle=\"<->\")\n",
    "    plt.text(1.4e3/Fréquence, -0.1, s='T',fontsize=12)\n",
    "    \n",
    "    ax.add_patch(arrow)"
   ]
  },
  {
   "cell_type": "code",
   "execution_count": null,
   "metadata": {
    "scrolled": false
   },
   "outputs": [],
   "source": [
    "f=float(input(\"Fréquence (Hz) :\"))\n",
    "\n",
    "make_plot(f)\n",
    "\n",
    "t=linspace(0,T_tot,N)\n",
    "signal=sin(2*pi*f*t) + sin(4*pi*f*t) + sin(8*pi*f*t)\n",
    "Audio(signal, rate=N/T_tot)"
   ]
  },
  {
   "cell_type": "code",
   "execution_count": null,
   "metadata": {
    "jupyter": {
     "source_hidden": true
    },
    "scrolled": false
   },
   "outputs": [],
   "source": [
    "fig,ax=subplots(figsize=(2*2.36,2.36), dpi=600)\n",
    "matplotlib.rc('xtick', labelsize=10) \n",
    "matplotlib.rc('ytick', labelsize=10) \n",
    "\n",
    "#@interact(Fréquence=(240,840,10))\n",
    "def make_plot(Fréquence):\n",
    "    ax.clear()\n",
    "    t=linspace(0,T_tot,N)\n",
    "    signal=sin(2*pi*Fréquence*t)\n",
    "    axhline(ls=\"dashed\",color=\"k\",alpha=0.25)\n",
    "    \n",
    "    ax.plot(t*1e3,signal)\n",
    "    ax.set_xlim(0,0.01*1e3) ; ax.set_ylim(-1.1,1.1)\n",
    "    \n",
    "    xlabel(\"Temps(ms)\", fontsize=12) ; ylabel(\"Tension (V)\", fontsize=12)\n",
    "    ax.set_yticks((0,))\n",
    "    \n",
    "    arrow1 = matplotlib.patches.FancyArrowPatch((1e3/Fréquence, 0), (2e3/Fréquence, 0),mutation_scale=10,color=\"k\",arrowstyle=\"<->\")\n",
    "    arrow2 = matplotlib.patches.FancyArrowPatch((0.25e3/Fréquence, -0.05), (0.25e3/Fréquence, 1.05),mutation_scale=10,color=\"r\",arrowstyle=\"<->\")\n",
    "    plt.text(1.3e3/Fréquence, -0.3, s='T',fontsize=12)\n",
    "    plt.text(0.63, 0.4, s='A',fontsize=12,color=\"r\")\n",
    "    \n",
    "    ax.add_patch(arrow1)\n",
    "    ax.add_patch(arrow2)\n",
    "\n",
    "make_plot(440)\n",
    "tight_layout()\n",
    "savefig(\"tension.png\")"
   ]
  }
 ],
 "metadata": {
  "kernelspec": {
   "display_name": "Python 3",
   "language": "python",
   "name": "python3"
  },
  "language_info": {
   "codemirror_mode": {
    "name": "ipython",
    "version": 3
   },
   "file_extension": ".py",
   "mimetype": "text/x-python",
   "name": "python",
   "nbconvert_exporter": "python",
   "pygments_lexer": "ipython3",
   "version": "3.8.5"
  }
 },
 "nbformat": 4,
 "nbformat_minor": 4
}
